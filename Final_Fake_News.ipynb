{
  "nbformat": 4,
  "nbformat_minor": 0,
  "metadata": {
    "colab": {
      "name": "Final Fake/News",
      "provenance": [],
      "collapsed_sections": []
    },
    "kernelspec": {
      "name": "python3",
      "display_name": "Python 3"
    }
  },
  "cells": [
    {
      "cell_type": "code",
      "metadata": {
        "id": "3gwHjpyTMCfK",
        "colab_type": "code",
        "outputId": "0721cd79-2546-494b-f432-d990a7935750",
        "colab": {
          "base_uri": "https://localhost:8080/",
          "height": 121
        }
      },
      "source": [
        "from google.colab import drive\n",
        "drive.mount('/gdrive')"
      ],
      "execution_count": 0,
      "outputs": [
        {
          "output_type": "stream",
          "text": [
            "Go to this URL in a browser: https://accounts.google.com/o/oauth2/auth?client_id=947318989803-6bn6qk8qdgf4n4g3pfee6491hc0brc4i.apps.googleusercontent.com&redirect_uri=urn%3Aietf%3Awg%3Aoauth%3A2.0%3Aoob&scope=email%20https%3A%2F%2Fwww.googleapis.com%2Fauth%2Fdocs.test%20https%3A%2F%2Fwww.googleapis.com%2Fauth%2Fdrive%20https%3A%2F%2Fwww.googleapis.com%2Fauth%2Fdrive.photos.readonly%20https%3A%2F%2Fwww.googleapis.com%2Fauth%2Fpeopleapi.readonly&response_type=code\n",
            "\n",
            "Enter your authorization code:\n",
            "··········\n",
            "Mounted at /gdrive\n"
          ],
          "name": "stdout"
        }
      ]
    },
    {
      "cell_type": "code",
      "metadata": {
        "id": "EwCYvxt2MEXo",
        "colab_type": "code",
        "outputId": "8e7c615c-1eee-4596-d522-f14d079d453f",
        "colab": {
          "base_uri": "https://localhost:8080/",
          "height": 34
        }
      },
      "source": [
        "%cd /gdrive/My\\ Drive/Secured/QICC/fakeNewsDataset"
      ],
      "execution_count": 0,
      "outputs": [
        {
          "output_type": "stream",
          "text": [
            "/gdrive/My Drive/Secured/QICC/fakeNewsDataset\n"
          ],
          "name": "stdout"
        }
      ]
    },
    {
      "cell_type": "code",
      "metadata": {
        "id": "2z6kGd2ALbT9",
        "colab_type": "code",
        "colab": {}
      },
      "source": [
        "import pandas as pd\n",
        "import numpy as np\n",
        "import matplotlib.pyplot as plt\n",
        "from sklearn.model_selection import train_test_split\n",
        "from sklearn.feature_extraction.text import TfidfVectorizer\n",
        "import itertools\n",
        "from sklearn.naive_bayes import MultinomialNB\n",
        "from sklearn import metrics\n",
        "import os"
      ],
      "execution_count": 0,
      "outputs": []
    },
    {
      "cell_type": "code",
      "metadata": {
        "id": "1SrL1TVNMHpS",
        "colab_type": "code",
        "colab": {}
      },
      "source": [
        "df = pd.DataFrame(columns=['Headline','Description','Domain','Fake/Legit'])\n",
        "df_test=pd.DataFrame(columns=['Headline','Description','Domain','Fake/Legit'])"
      ],
      "execution_count": 0,
      "outputs": []
    },
    {
      "cell_type": "code",
      "metadata": {
        "id": "n5N9eTnl6y_C",
        "colab_type": "code",
        "colab": {}
      },
      "source": [
        "df_eval=pd.DataFrame(columns=['Headline','Description','Domain','Fake/Legit'])"
      ],
      "execution_count": 0,
      "outputs": []
    },
    {
      "cell_type": "code",
      "metadata": {
        "id": "NKVGKkF3MMY4",
        "colab_type": "code",
        "colab": {}
      },
      "source": [
        "import glob\n",
        "import re\n",
        "files_train_fake=glob.glob('fake-training/*.txt')\n",
        "files_train_legit=glob.glob('legit-training/*.txt')"
      ],
      "execution_count": 0,
      "outputs": []
    },
    {
      "cell_type": "code",
      "metadata": {
        "id": "1ApKvYEI7GSV",
        "colab_type": "code",
        "colab": {}
      },
      "source": [
        "file_eval=glob.glob('fake-news-real-news-eval/*.txt')"
      ],
      "execution_count": 0,
      "outputs": []
    },
    {
      "cell_type": "code",
      "metadata": {
        "id": "TMnfpnRRWy6T",
        "colab_type": "code",
        "colab": {}
      },
      "source": [
        "#import fake_training_dataset\n",
        "for file_name in files_train_fake:\n",
        "  with open(file_name, \"r\") as f:\n",
        "    names_list = [l for l in (line.strip() for line in f) if l]\n",
        "    if len(names_list)>1:\n",
        "      df=df.append({'Headline':names_list[0],'Description': \"\".join(names_list[0:]), 'Domain':re.search(r\"[a-zA-Z]*\",file_name[14:]).group(), 'Fake/Legit':1}, ignore_index=True)\n",
        "    else:\n",
        "      df=df.append({ 'Description': names_list[0], 'Domain':re.search(r\"[a-zA-Z]*\",file_name[14:]).group(), 'Fake/Legit':1},ignore_index=True)"
      ],
      "execution_count": 0,
      "outputs": []
    },
    {
      "cell_type": "code",
      "metadata": {
        "id": "PbrM1227-AUh",
        "colab_type": "code",
        "colab": {}
      },
      "source": [
        "import codecs"
      ],
      "execution_count": 0,
      "outputs": []
    },
    {
      "cell_type": "code",
      "metadata": {
        "id": "zfYJ24pc7TQG",
        "colab_type": "code",
        "colab": {}
      },
      "source": [
        "for file_name in file_eval:\n",
        "  with codecs.open(file_name, 'r', encoding='utf-8', errors='ignore')  as f:\n",
        "    names_list = [l for l in (line.strip() for line in f) if l]\n",
        "    if len(names_list)>1:\n",
        "      df_eval=df_eval.append({'Headline':names_list[0],'Description': \"\".join(names_list[0:])}, ignore_index=True)\n",
        "    else:\n",
        "      df_eval=df_eval.append({ 'Description': names_list[0]}, ignore_index=True)"
      ],
      "execution_count": 0,
      "outputs": []
    },
    {
      "cell_type": "code",
      "metadata": {
        "id": "k5IMlcjj-xC4",
        "colab_type": "code",
        "outputId": "c417d635-d435-47c3-8a23-b4e751c1610c",
        "colab": {
          "base_uri": "https://localhost:8080/",
          "height": 195
        }
      },
      "source": [
        "df.head()"
      ],
      "execution_count": 0,
      "outputs": [
        {
          "output_type": "execute_result",
          "data": {
            "text/html": [
              "<div>\n",
              "<style scoped>\n",
              "    .dataframe tbody tr th:only-of-type {\n",
              "        vertical-align: middle;\n",
              "    }\n",
              "\n",
              "    .dataframe tbody tr th {\n",
              "        vertical-align: top;\n",
              "    }\n",
              "\n",
              "    .dataframe thead th {\n",
              "        text-align: right;\n",
              "    }\n",
              "</style>\n",
              "<table border=\"1\" class=\"dataframe\">\n",
              "  <thead>\n",
              "    <tr style=\"text-align: right;\">\n",
              "      <th></th>\n",
              "      <th>Unnamed: 0</th>\n",
              "      <th>Headline</th>\n",
              "      <th>Description</th>\n",
              "      <th>Domain</th>\n",
              "      <th>Fake/Legit</th>\n",
              "    </tr>\n",
              "  </thead>\n",
              "  <tbody>\n",
              "    <tr>\n",
              "      <th>0</th>\n",
              "      <td>0</td>\n",
              "      <td>NaN</td>\n",
              "      <td>\"Tesco will not pay out any money to settle in...</td>\n",
              "      <td>biz</td>\n",
              "      <td>1</td>\n",
              "    </tr>\n",
              "    <tr>\n",
              "      <th>1</th>\n",
              "      <td>1</td>\n",
              "      <td>EU Applauds Deutsche Boerse's $14 Billion Take...</td>\n",
              "      <td>EU Applauds Deutsche Boerse's $14 Billion Take...</td>\n",
              "      <td>biz</td>\n",
              "      <td>1</td>\n",
              "    </tr>\n",
              "    <tr>\n",
              "      <th>2</th>\n",
              "      <td>2</td>\n",
              "      <td>Amazon to sell Middle East online retailer Souq</td>\n",
              "      <td>Amazon to sell Middle East online retailer Sou...</td>\n",
              "      <td>biz</td>\n",
              "      <td>1</td>\n",
              "    </tr>\n",
              "    <tr>\n",
              "      <th>3</th>\n",
              "      <td>3</td>\n",
              "      <td>Toshiba's Westinghouse creating thriving job m...</td>\n",
              "      <td>Toshiba's Westinghouse creating thriving job m...</td>\n",
              "      <td>biz</td>\n",
              "      <td>1</td>\n",
              "    </tr>\n",
              "    <tr>\n",
              "      <th>4</th>\n",
              "      <td>4</td>\n",
              "      <td>NaN</td>\n",
              "      <td>Ford has been forced by Donald Trump to pull o...</td>\n",
              "      <td>biz</td>\n",
              "      <td>1</td>\n",
              "    </tr>\n",
              "  </tbody>\n",
              "</table>\n",
              "</div>"
            ],
            "text/plain": [
              "   Unnamed: 0  ... Fake/Legit\n",
              "0           0  ...          1\n",
              "1           1  ...          1\n",
              "2           2  ...          1\n",
              "3           3  ...          1\n",
              "4           4  ...          1\n",
              "\n",
              "[5 rows x 5 columns]"
            ]
          },
          "metadata": {
            "tags": []
          },
          "execution_count": 79
        }
      ]
    },
    {
      "cell_type": "code",
      "metadata": {
        "id": "yiRv5N9rm2sS",
        "colab_type": "code",
        "colab": {}
      },
      "source": [
        "#import legit_training_dataset\n",
        "for file_name in files_train_legit:\n",
        "  with open(file_name, \"r\") as f:\n",
        "    names_list = [l for l in (line.strip() for line in f) if l]\n",
        "    if len(names_list)>1:\n",
        "      df=df.append({'Headline':names_list[0],'Description': \"\".join(names_list[0:]), 'Domain':re.search(r\"[a-zA-Z]*\",file_name[15:]).group(), 'Fake/Legit':0}, ignore_index=True)\n",
        "    else:\n",
        "      df=df.append({ 'Description': names_list[0], 'Domain':re.search(r\"[a-zA-Z]*\",file_name[15:]).group(), 'Fake/Legit':0},ignore_index=True)"
      ],
      "execution_count": 0,
      "outputs": []
    },
    {
      "cell_type": "code",
      "metadata": {
        "id": "0NBB9p-Kg1g7",
        "colab_type": "code",
        "colab": {}
      },
      "source": [
        "files_test_fake=glob.glob('fake-test/*.txt')\n",
        "files_test_legit=glob.glob('legit-test/*.txt')"
      ],
      "execution_count": 0,
      "outputs": []
    },
    {
      "cell_type": "code",
      "metadata": {
        "id": "YNUd1sw45sEI",
        "colab_type": "code",
        "colab": {}
      },
      "source": [
        "#import fake_test_dataset\n",
        "for file_name in files_test_fake:\n",
        "  with open(file_name, \"r\") as f:\n",
        "    names_list = [l for l in (line.strip() for line in f) if l]\n",
        "    if len(names_list)>1:\n",
        "      df_test=df_test.append({'Headline':names_list[0],'Description': \"\".join(names_list[0:]), 'Domain':re.search(r\"[a-zA-Z]*\",file_name[10:]).group(), 'Fake/Legit':1}, ignore_index=True)\n",
        "    else:\n",
        "      df_test=df_test.append({ 'Description': names_list[0], 'Domain':re.search(r\"[a-zA-Z]*\",file_name[10:]).group(), 'Fake/Legit':1},ignore_index=True)\n",
        "\n",
        "\n",
        "#import legit_test_dataset\n",
        "for file_name in files_test_legit:\n",
        "  with open(file_name, \"r\") as f:\n",
        "    names_list = [l for l in (line.strip() for line in f) if l]\n",
        "    if len(names_list)>1:\n",
        "      df_test=df_test.append({'Headline':names_list[0],'Description': \"\".join(names_list[0:]), 'Domain':re.search(r\"[a-zA-Z]*\",file_name[11:]).group(), 'Fake/Legit':0}, ignore_index=True)\n",
        "    else:\n",
        "      df_test=df_test.append({ 'Description': names_list[0], 'Domain':re.search(r\"[a-zA-Z]*\",file_name[11:]).group(), 'Fake/Legit':0},ignore_index=True)"
      ],
      "execution_count": 0,
      "outputs": []
    },
    {
      "cell_type": "code",
      "metadata": {
        "id": "qwnVx8kZNmyt",
        "colab_type": "code",
        "colab": {}
      },
      "source": [
        "X_train,X_test,y_train,y_test = df['Description'], df_test['Description'], df['Fake/Legit'], df_test['Fake/Legit']"
      ],
      "execution_count": 0,
      "outputs": []
    },
    {
      "cell_type": "code",
      "metadata": {
        "id": "pVlmN3VbF43T",
        "colab_type": "code",
        "colab": {}
      },
      "source": [
        "#Applying tfidf to the data set\n",
        "tfidf_vect = TfidfVectorizer(stop_words = 'english')\n",
        "tfidf_train = tfidf_vect.fit_transform(X_train)\n",
        "tfidf_test = tfidf_vect.transform(X_test)\n",
        "tfidf_df = pd.DataFrame(tfidf_train.A, columns=tfidf_vect.get_feature_names())"
      ],
      "execution_count": 0,
      "outputs": []
    },
    {
      "cell_type": "code",
      "metadata": {
        "id": "u1kbhKD1HPKE",
        "colab_type": "code",
        "colab": {}
      },
      "source": [
        "clf = MultinomialNB() #Applying Naive Bayes"
      ],
      "execution_count": 0,
      "outputs": []
    },
    {
      "cell_type": "code",
      "metadata": {
        "id": "TaLkbz0mHTaS",
        "colab_type": "code",
        "outputId": "7afd5085-571e-4e0c-b3c1-33a54a6981a7",
        "colab": {
          "base_uri": "https://localhost:8080/",
          "height": 34
        }
      },
      "source": [
        "clf.fit(tfidf_train, y_train.astype('int')) # Fit Naive Bayes classifier according to X, y"
      ],
      "execution_count": 0,
      "outputs": [
        {
          "output_type": "execute_result",
          "data": {
            "text/plain": [
              "MultinomialNB(alpha=1.0, class_prior=None, fit_prior=True)"
            ]
          },
          "metadata": {
            "tags": []
          },
          "execution_count": 91
        }
      ]
    },
    {
      "cell_type": "code",
      "metadata": {
        "id": "OdseE64mGB65",
        "colab_type": "code",
        "outputId": "e92eee56-2284-47fa-b81b-eb02e58c101f",
        "colab": {
          "base_uri": "https://localhost:8080/",
          "height": 67
        }
      },
      "source": [
        "\n",
        "pred = clf.predict(tfidf_test)                     # Perform classification on an array of test vectors X.\n",
        "score = metrics.accuracy_score(y_test.astype('int'), pred)\n",
        "print(\"accuracy:   %0.3f\" % score)\n",
        "cm = metrics.confusion_matrix(y_test.astype('int'), pred)\n",
        "print(cm)"
      ],
      "execution_count": 0,
      "outputs": [
        {
          "output_type": "stream",
          "text": [
            "accuracy:   0.750\n",
            "[[19  5]\n",
            " [ 7 17]]\n"
          ],
          "name": "stdout"
        }
      ]
    },
    {
      "cell_type": "code",
      "metadata": {
        "id": "fJ32RO4nqipr",
        "colab_type": "code",
        "outputId": "0d522cf3-2901-47d8-f3f7-53c9254b23d4",
        "colab": {
          "base_uri": "https://localhost:8080/",
          "height": 185
        }
      },
      "source": [
        "from sklearn.metrics import classification_report\n",
        "print('REPORT:')\n",
        "print(classification_report(y_test.astype(int), pred))"
      ],
      "execution_count": 0,
      "outputs": [
        {
          "output_type": "stream",
          "text": [
            "REPORT:\n",
            "              precision    recall  f1-score   support\n",
            "\n",
            "           0       0.73      0.79      0.76        24\n",
            "           1       0.77      0.71      0.74        24\n",
            "\n",
            "    accuracy                           0.75        48\n",
            "   macro avg       0.75      0.75      0.75        48\n",
            "weighted avg       0.75      0.75      0.75        48\n",
            "\n"
          ],
          "name": "stdout"
        }
      ]
    },
    {
      "cell_type": "code",
      "metadata": {
        "id": "zFV8pPQ-_8Iy",
        "colab_type": "code",
        "colab": {}
      },
      "source": [
        "tfidf_eval = tfidf_vect.transform(df_eval['Description'])"
      ],
      "execution_count": 0,
      "outputs": []
    },
    {
      "cell_type": "code",
      "metadata": {
        "id": "KiIv295pAJww",
        "colab_type": "code",
        "colab": {}
      },
      "source": [
        "pred = clf.predict(tfidf_eval)                     # Perform classification on an array of test vectors X.\n"
      ],
      "execution_count": 0,
      "outputs": []
    },
    {
      "cell_type": "code",
      "metadata": {
        "id": "2SkUBNVwAPuE",
        "colab_type": "code",
        "outputId": "25264131-2ed9-45e4-85c5-56be4390df00",
        "colab": {
          "base_uri": "https://localhost:8080/",
          "height": 67
        }
      },
      "source": [
        "pred"
      ],
      "execution_count": 0,
      "outputs": [
        {
          "output_type": "execute_result",
          "data": {
            "text/plain": [
              "array([0, 1, 1, 1, 1, 0, 0, 0, 0, 1, 1, 1, 1, 0, 0, 0, 1, 0, 1, 1, 1, 0,\n",
              "       1, 1, 1, 0, 0, 0, 0, 1, 1, 1, 0, 1, 0, 1, 0, 1, 0, 1, 1, 1, 1, 0,\n",
              "       0, 1, 1, 1, 1])"
            ]
          },
          "metadata": {
            "tags": []
          },
          "execution_count": 96
        }
      ]
    },
    {
      "cell_type": "code",
      "metadata": {
        "id": "aqwidoVbCbwt",
        "colab_type": "code",
        "colab": {}
      },
      "source": [
        "df_eval['Fake/Legit']=pd.Series(pred, index=df_eval.index)"
      ],
      "execution_count": 0,
      "outputs": []
    },
    {
      "cell_type": "markdown",
      "metadata": {
        "id": "5YtWIT1GV9tb",
        "colab_type": "text"
      },
      "source": [
        "Domain Prediction"
      ]
    },
    {
      "cell_type": "code",
      "metadata": {
        "id": "JaWwrIDmnpnR",
        "colab_type": "code",
        "colab": {}
      },
      "source": [
        "df=pd.read_csv(\"training.csv\")\n",
        "df_test=pd.read_csv(\"test.csv\")"
      ],
      "execution_count": 0,
      "outputs": []
    },
    {
      "cell_type": "code",
      "metadata": {
        "id": "2mFr6jZynLk6",
        "colab_type": "code",
        "colab": {}
      },
      "source": [
        "X_train,X_test,y_train,y_test = df['Description'], df_test['Description'], df['Domain'], df_test['Domain']"
      ],
      "execution_count": 0,
      "outputs": []
    },
    {
      "cell_type": "code",
      "metadata": {
        "id": "jwDX0D3IoNwB",
        "colab_type": "code",
        "colab": {}
      },
      "source": [
        "#Applying tfidf to the data set\n",
        "tfidf_vect = TfidfVectorizer(stop_words = 'english')\n",
        "tfidf_train = tfidf_vect.fit_transform(X_train)\n",
        "tfidf_test = tfidf_vect.transform(X_test)\n",
        "tfidf_df = pd.DataFrame(tfidf_train.A, columns=tfidf_vect.get_feature_names())"
      ],
      "execution_count": 0,
      "outputs": []
    },
    {
      "cell_type": "code",
      "metadata": {
        "id": "-cKvS1EnoO96",
        "colab_type": "code",
        "outputId": "d71d094d-5196-471e-d6cb-8c6616768429",
        "colab": {
          "base_uri": "https://localhost:8080/",
          "height": 134
        }
      },
      "source": [
        "clf = MultinomialNB() #Applying Naive Bayes\n",
        "clf.fit(tfidf_train, y_train) # Fit Naive Bayes classifier according to X, y\n",
        "\n",
        "pred = clf.predict(tfidf_test)                     # Perform classification on an array of test vectors X.\n",
        "score = metrics.accuracy_score(y_test, pred)\n",
        "print(\"accuracy:   %0.3f\" % score)\n",
        "cm = metrics.confusion_matrix(y_test, pred)\n",
        "print(cm)"
      ],
      "execution_count": 0,
      "outputs": [
        {
          "output_type": "stream",
          "text": [
            "accuracy:   0.771\n",
            "[[4 0 0 0 0 4]\n",
            " [0 8 0 0 0 0]\n",
            " [4 0 3 0 1 0]\n",
            " [0 0 0 8 0 0]\n",
            " [0 0 1 0 7 0]\n",
            " [0 0 0 0 1 7]]\n"
          ],
          "name": "stdout"
        }
      ]
    },
    {
      "cell_type": "code",
      "metadata": {
        "id": "lLKsxz8zo9CN",
        "colab_type": "code",
        "outputId": "9c617422-fe65-4587-84bb-eddbe89d9496",
        "colab": {
          "base_uri": "https://localhost:8080/",
          "height": 252
        }
      },
      "source": [
        "from sklearn.metrics import classification_report\n",
        "print('REPORT:')\n",
        "print(classification_report(y_test, pred))"
      ],
      "execution_count": 0,
      "outputs": [
        {
          "output_type": "stream",
          "text": [
            "REPORT:\n",
            "              precision    recall  f1-score   support\n",
            "\n",
            "         biz       0.50      0.50      0.50         8\n",
            "         edu       1.00      1.00      1.00         8\n",
            "       entmt       0.75      0.38      0.50         8\n",
            "       polit       1.00      1.00      1.00         8\n",
            "      sports       0.78      0.88      0.82         8\n",
            "        tech       0.64      0.88      0.74         8\n",
            "\n",
            "    accuracy                           0.77        48\n",
            "   macro avg       0.78      0.77      0.76        48\n",
            "weighted avg       0.78      0.77      0.76        48\n",
            "\n"
          ],
          "name": "stdout"
        }
      ]
    },
    {
      "cell_type": "code",
      "metadata": {
        "id": "exrzjSPnDJjY",
        "colab_type": "code",
        "colab": {}
      },
      "source": [
        "pred = clf.predict(tfidf_eval)"
      ],
      "execution_count": 0,
      "outputs": []
    },
    {
      "cell_type": "code",
      "metadata": {
        "id": "ISi1s66nDfG7",
        "colab_type": "code",
        "outputId": "75c11e07-c302-444d-f6a2-0e3bb69bfc0a",
        "colab": {
          "base_uri": "https://localhost:8080/",
          "height": 134
        }
      },
      "source": [
        "pred"
      ],
      "execution_count": 0,
      "outputs": [
        {
          "output_type": "execute_result",
          "data": {
            "text/plain": [
              "array(['edu', 'edu', 'edu', 'polit', 'entmt', 'polit', 'polit', 'entmt',\n",
              "       'sports', 'polit', 'sports', 'sports', 'entmt', 'entmt', 'entmt',\n",
              "       'entmt', 'polit', 'polit', 'polit', 'polit', 'tech', 'tech',\n",
              "       'tech', 'tech', 'sports', 'tech', 'tech', 'entmt', 'sports', 'edu',\n",
              "       'sports', 'sports', 'polit', 'biz', 'polit', 'biz', 'polit', 'biz',\n",
              "       'polit', 'biz', 'polit', 'polit', 'polit', 'edu', 'edu', 'polit',\n",
              "       'entmt', 'entmt', 'tech'], dtype='<U6')"
            ]
          },
          "metadata": {
            "tags": []
          },
          "execution_count": 113
        }
      ]
    },
    {
      "cell_type": "code",
      "metadata": {
        "id": "2z99iQgpDlJl",
        "colab_type": "code",
        "colab": {}
      },
      "source": [
        "df_eval['Domain']=pd.Series(pred, index=df_eval.index)"
      ],
      "execution_count": 0,
      "outputs": []
    },
    {
      "cell_type": "code",
      "metadata": {
        "id": "UOa6yzTWDo2c",
        "colab_type": "code",
        "outputId": "da50c3d3-6bcc-4d74-a640-58adaeac7acc",
        "colab": {
          "base_uri": "https://localhost:8080/",
          "height": 195
        }
      },
      "source": [
        "df_eval.head()"
      ],
      "execution_count": 0,
      "outputs": [
        {
          "output_type": "execute_result",
          "data": {
            "text/html": [
              "<div>\n",
              "<style scoped>\n",
              "    .dataframe tbody tr th:only-of-type {\n",
              "        vertical-align: middle;\n",
              "    }\n",
              "\n",
              "    .dataframe tbody tr th {\n",
              "        vertical-align: top;\n",
              "    }\n",
              "\n",
              "    .dataframe thead th {\n",
              "        text-align: right;\n",
              "    }\n",
              "</style>\n",
              "<table border=\"1\" class=\"dataframe\">\n",
              "  <thead>\n",
              "    <tr style=\"text-align: right;\">\n",
              "      <th></th>\n",
              "      <th>File Name</th>\n",
              "      <th>Domain</th>\n",
              "      <th>Fake/Legit</th>\n",
              "    </tr>\n",
              "  </thead>\n",
              "  <tbody>\n",
              "    <tr>\n",
              "      <th>0</th>\n",
              "      <td>asd01.blind.txt</td>\n",
              "      <td>edu</td>\n",
              "      <td>0</td>\n",
              "    </tr>\n",
              "    <tr>\n",
              "      <th>1</th>\n",
              "      <td>asd02.blind.txt</td>\n",
              "      <td>edu</td>\n",
              "      <td>1</td>\n",
              "    </tr>\n",
              "    <tr>\n",
              "      <th>2</th>\n",
              "      <td>asd03.blind.txt</td>\n",
              "      <td>edu</td>\n",
              "      <td>1</td>\n",
              "    </tr>\n",
              "    <tr>\n",
              "      <th>3</th>\n",
              "      <td>asd04.blind.txt</td>\n",
              "      <td>polit</td>\n",
              "      <td>1</td>\n",
              "    </tr>\n",
              "    <tr>\n",
              "      <th>4</th>\n",
              "      <td>bsb01.blind.txt</td>\n",
              "      <td>entmt</td>\n",
              "      <td>1</td>\n",
              "    </tr>\n",
              "  </tbody>\n",
              "</table>\n",
              "</div>"
            ],
            "text/plain": [
              "         File Name Domain  Fake/Legit\n",
              "0  asd01.blind.txt    edu           0\n",
              "1  asd02.blind.txt    edu           1\n",
              "2  asd03.blind.txt    edu           1\n",
              "3  asd04.blind.txt  polit           1\n",
              "4  bsb01.blind.txt  entmt           1"
            ]
          },
          "metadata": {
            "tags": []
          },
          "execution_count": 134
        }
      ]
    },
    {
      "cell_type": "code",
      "metadata": {
        "id": "3A29fKRUH0Ew",
        "colab_type": "code",
        "colab": {}
      },
      "source": [
        "filesl=[]\n",
        "for i in file_eval:\n",
        "  filesl.append(i[25:]);\n"
      ],
      "execution_count": 0,
      "outputs": []
    },
    {
      "cell_type": "code",
      "metadata": {
        "id": "TjUDslEUIamR",
        "colab_type": "code",
        "colab": {}
      },
      "source": [
        "df_eval['File Name']=pd.Series(filesl, index=df_eval.index)"
      ],
      "execution_count": 0,
      "outputs": []
    },
    {
      "cell_type": "code",
      "metadata": {
        "id": "7k5FXhAIJqnp",
        "colab_type": "code",
        "outputId": "c08611fc-17df-461a-ac43-30a1349a5c30",
        "colab": {
          "base_uri": "https://localhost:8080/",
          "height": 1000
        }
      },
      "source": [
        "df_eval"
      ],
      "execution_count": 0,
      "outputs": [
        {
          "output_type": "execute_result",
          "data": {
            "text/html": [
              "<div>\n",
              "<style scoped>\n",
              "    .dataframe tbody tr th:only-of-type {\n",
              "        vertical-align: middle;\n",
              "    }\n",
              "\n",
              "    .dataframe tbody tr th {\n",
              "        vertical-align: top;\n",
              "    }\n",
              "\n",
              "    .dataframe thead th {\n",
              "        text-align: right;\n",
              "    }\n",
              "</style>\n",
              "<table border=\"1\" class=\"dataframe\">\n",
              "  <thead>\n",
              "    <tr style=\"text-align: right;\">\n",
              "      <th></th>\n",
              "      <th>Headline</th>\n",
              "      <th>Description</th>\n",
              "      <th>Domain</th>\n",
              "      <th>Fake/Legit</th>\n",
              "      <th>File Name</th>\n",
              "    </tr>\n",
              "  </thead>\n",
              "  <tbody>\n",
              "    <tr>\n",
              "      <th>0</th>\n",
              "      <td>Male teachers preparing to cover down on 'Day ...</td>\n",
              "      <td>Male teachers preparing to cover down on 'Day ...</td>\n",
              "      <td>edu</td>\n",
              "      <td>0</td>\n",
              "      <td>asd01.blind.txt</td>\n",
              "    </tr>\n",
              "    <tr>\n",
              "      <th>1</th>\n",
              "      <td>Colombia University Busts a Steve Harvey..</td>\n",
              "      <td>Colombia University Busts a Steve Harvey..When...</td>\n",
              "      <td>edu</td>\n",
              "      <td>1</td>\n",
              "      <td>asd02.blind.txt</td>\n",
              "    </tr>\n",
              "    <tr>\n",
              "      <th>2</th>\n",
              "      <td>Betsy DeVos's Education Hearing Brings Creatio...</td>\n",
              "      <td>Betsy DeVos's Education Hearing Brings Creatio...</td>\n",
              "      <td>edu</td>\n",
              "      <td>1</td>\n",
              "      <td>asd03.blind.txt</td>\n",
              "    </tr>\n",
              "    <tr>\n",
              "      <th>3</th>\n",
              "      <td>Trump's Uses His Big Brain</td>\n",
              "      <td>Trump's Uses His Big BrainThe Senate, with bip...</td>\n",
              "      <td>polit</td>\n",
              "      <td>1</td>\n",
              "      <td>asd04.blind.txt</td>\n",
              "    </tr>\n",
              "    <tr>\n",
              "      <th>4</th>\n",
              "      <td>NaN</td>\n",
              "      <td>ARCADIA, CAAfter the death of 3-year-old colt ...</td>\n",
              "      <td>entmt</td>\n",
              "      <td>1</td>\n",
              "      <td>bsb01.blind.txt</td>\n",
              "    </tr>\n",
              "    <tr>\n",
              "      <th>5</th>\n",
              "      <td>NaN</td>\n",
              "      <td>WASHINGTONExplaining that they faced a serious...</td>\n",
              "      <td>polit</td>\n",
              "      <td>0</td>\n",
              "      <td>bsb02.blind.txt</td>\n",
              "    </tr>\n",
              "    <tr>\n",
              "      <th>6</th>\n",
              "      <td>US President Donald Trump called Australian PM...</td>\n",
              "      <td>US President Donald Trump called Australian PM...</td>\n",
              "      <td>polit</td>\n",
              "      <td>0</td>\n",
              "      <td>bsb03.blind.txt</td>\n",
              "    </tr>\n",
              "    <tr>\n",
              "      <th>7</th>\n",
              "      <td>An activist involved in anti-government protes...</td>\n",
              "      <td>An activist involved in anti-government protes...</td>\n",
              "      <td>entmt</td>\n",
              "      <td>0</td>\n",
              "      <td>bsb04.blind.txt</td>\n",
              "    </tr>\n",
              "    <tr>\n",
              "      <th>8</th>\n",
              "      <td>Signed autograph of Michael Jordan's 'Basketba...</td>\n",
              "      <td>Signed autograph of Michael Jordan's 'Basketba...</td>\n",
              "      <td>sports</td>\n",
              "      <td>0</td>\n",
              "      <td>fgh01.blind.txt</td>\n",
              "    </tr>\n",
              "    <tr>\n",
              "      <th>9</th>\n",
              "      <td>SEXIST RORY MCILROY CALLS VOTE FOR FEMALE MEMB...</td>\n",
              "      <td>SEXIST RORY MCILROY CALLS VOTE FOR FEMALE MEMB...</td>\n",
              "      <td>polit</td>\n",
              "      <td>1</td>\n",
              "      <td>fgh02.blind.txt</td>\n",
              "    </tr>\n",
              "    <tr>\n",
              "      <th>10</th>\n",
              "      <td>Bruno Fernandes de Souza Exonerated at Last</td>\n",
              "      <td>Bruno Fernandes de Souza Exonerated at LastIn ...</td>\n",
              "      <td>sports</td>\n",
              "      <td>1</td>\n",
              "      <td>fgh03.blind.txt</td>\n",
              "    </tr>\n",
              "    <tr>\n",
              "      <th>11</th>\n",
              "      <td>Lawrence Okolie: Olympian suffers humiliating ...</td>\n",
              "      <td>Lawrence Okolie: Olympian suffers humiliating ...</td>\n",
              "      <td>sports</td>\n",
              "      <td>1</td>\n",
              "      <td>fgh04.blind.txt</td>\n",
              "    </tr>\n",
              "    <tr>\n",
              "      <th>12</th>\n",
              "      <td>Will Smith reunites with Fresh Prince of Bel-A...</td>\n",
              "      <td>Will Smith reunites with Fresh Prince of Bel-A...</td>\n",
              "      <td>entmt</td>\n",
              "      <td>1</td>\n",
              "      <td>gfd01.blind.txt</td>\n",
              "    </tr>\n",
              "    <tr>\n",
              "      <th>13</th>\n",
              "      <td>Emma Thompson felt 'too fat' to live in LA</td>\n",
              "      <td>Emma Thompson felt 'too fat' to live in LABrit...</td>\n",
              "      <td>entmt</td>\n",
              "      <td>0</td>\n",
              "      <td>gfd02.blind.txt</td>\n",
              "    </tr>\n",
              "    <tr>\n",
              "      <th>14</th>\n",
              "      <td>Brian Cox plays Postman Pat scientist</td>\n",
              "      <td>Brian Cox plays Postman Pat scientistProfessor...</td>\n",
              "      <td>entmt</td>\n",
              "      <td>0</td>\n",
              "      <td>gfd03.blind.txt</td>\n",
              "    </tr>\n",
              "    <tr>\n",
              "      <th>15</th>\n",
              "      <td>Pharrell the musical: Coming to a screen near you</td>\n",
              "      <td>Pharrell the musical: Coming to a screen near ...</td>\n",
              "      <td>entmt</td>\n",
              "      <td>0</td>\n",
              "      <td>gfd04.blind.txt</td>\n",
              "    </tr>\n",
              "    <tr>\n",
              "      <th>16</th>\n",
              "      <td>Pence: Congress wasn't ready to repeal, replac...</td>\n",
              "      <td>Pence: Congress wasn't ready to repeal, replac...</td>\n",
              "      <td>polit</td>\n",
              "      <td>1</td>\n",
              "      <td>jhg01.blind.txt</td>\n",
              "    </tr>\n",
              "    <tr>\n",
              "      <th>17</th>\n",
              "      <td>Tax reform the next big ticket item on Trump's...</td>\n",
              "      <td>Tax reform the next big ticket item on Trump's...</td>\n",
              "      <td>polit</td>\n",
              "      <td>0</td>\n",
              "      <td>jhg02.blind.txt</td>\n",
              "    </tr>\n",
              "    <tr>\n",
              "      <th>18</th>\n",
              "      <td>Schumer: Trump showed 'basic lack of competenc...</td>\n",
              "      <td>Schumer: Trump showed 'basic lack of competenc...</td>\n",
              "      <td>polit</td>\n",
              "      <td>1</td>\n",
              "      <td>jhg03.blind.txt</td>\n",
              "    </tr>\n",
              "    <tr>\n",
              "      <th>19</th>\n",
              "      <td>President Trump climbs into an 18-wheeler and ...</td>\n",
              "      <td>President Trump climbs into an 18-wheeler and ...</td>\n",
              "      <td>polit</td>\n",
              "      <td>1</td>\n",
              "      <td>jhg04.blind.txt</td>\n",
              "    </tr>\n",
              "    <tr>\n",
              "      <th>20</th>\n",
              "      <td>New Nintendo Switch game console to launch in ...</td>\n",
              "      <td>New Nintendo Switch game console to launch in ...</td>\n",
              "      <td>tech</td>\n",
              "      <td>1</td>\n",
              "      <td>jkl01.blind.txt</td>\n",
              "    </tr>\n",
              "    <tr>\n",
              "      <th>21</th>\n",
              "      <td>Smart phones and tablets banned on all U.S. fl...</td>\n",
              "      <td>Smart phones and tablets banned on all U.S. fl...</td>\n",
              "      <td>tech</td>\n",
              "      <td>0</td>\n",
              "      <td>jkl02.blind.txt</td>\n",
              "    </tr>\n",
              "    <tr>\n",
              "      <th>22</th>\n",
              "      <td>Google computers defeat shows once again nothi...</td>\n",
              "      <td>Google computers defeat shows once again nothi...</td>\n",
              "      <td>tech</td>\n",
              "      <td>1</td>\n",
              "      <td>jkl03.blind.txt</td>\n",
              "    </tr>\n",
              "    <tr>\n",
              "      <th>23</th>\n",
              "      <td>Netflix is testing out commercials, and viewer...</td>\n",
              "      <td>Netflix is testing out commercials, and viewer...</td>\n",
              "      <td>tech</td>\n",
              "      <td>1</td>\n",
              "      <td>jkl04.blind.txt</td>\n",
              "    </tr>\n",
              "    <tr>\n",
              "      <th>24</th>\n",
              "      <td>Nintendo Switch game console to launch in Marc...</td>\n",
              "      <td>Nintendo Switch game console to launch in Marc...</td>\n",
              "      <td>sports</td>\n",
              "      <td>1</td>\n",
              "      <td>lkj01.blind.txt</td>\n",
              "    </tr>\n",
              "    <tr>\n",
              "      <th>25</th>\n",
              "      <td>Samsung Galaxy Note 7 banned on all U.S. fligh...</td>\n",
              "      <td>Samsung Galaxy Note 7 banned on all U.S. fligh...</td>\n",
              "      <td>tech</td>\n",
              "      <td>0</td>\n",
              "      <td>lkj02.blind.txt</td>\n",
              "    </tr>\n",
              "    <tr>\n",
              "      <th>26</th>\n",
              "      <td>A Google computer victorious over the world's ...</td>\n",
              "      <td>A Google computer victorious over the world's ...</td>\n",
              "      <td>tech</td>\n",
              "      <td>0</td>\n",
              "      <td>lkj03.blind.txt</td>\n",
              "    </tr>\n",
              "    <tr>\n",
              "      <th>27</th>\n",
              "      <td>Netflix is testing a 'Skip Intro' button, and ...</td>\n",
              "      <td>Netflix is testing a 'Skip Intro' button, and ...</td>\n",
              "      <td>entmt</td>\n",
              "      <td>0</td>\n",
              "      <td>lkj04.blind.txt</td>\n",
              "    </tr>\n",
              "    <tr>\n",
              "      <th>28</th>\n",
              "      <td>Basketball 'bible' auction sets sports memorab...</td>\n",
              "      <td>Basketball 'bible' auction sets sports memorab...</td>\n",
              "      <td>sports</td>\n",
              "      <td>0</td>\n",
              "      <td>mnb01.blind.txt</td>\n",
              "    </tr>\n",
              "    <tr>\n",
              "      <th>29</th>\n",
              "      <td>Rory McIlroy: Muirfield women membership saga ...</td>\n",
              "      <td>Rory McIlroy: Muirfield women membership saga ...</td>\n",
              "      <td>edu</td>\n",
              "      <td>1</td>\n",
              "      <td>mnb02.blind.txt</td>\n",
              "    </tr>\n",
              "    <tr>\n",
              "      <th>30</th>\n",
              "      <td>Bruno: Convicted of murdering ex-girlfriend</td>\n",
              "      <td>Bruno: Convicted of murdering ex-girlfriendgoa...</td>\n",
              "      <td>sports</td>\n",
              "      <td>1</td>\n",
              "      <td>mnb03.blind.txt</td>\n",
              "    </tr>\n",
              "    <tr>\n",
              "      <th>31</th>\n",
              "      <td>Lawrence Okolie: Olympian wins in 20 seconds o...</td>\n",
              "      <td>Lawrence Okolie: Olympian wins in 20 seconds o...</td>\n",
              "      <td>sports</td>\n",
              "      <td>1</td>\n",
              "      <td>mnb04.blind.txt</td>\n",
              "    </tr>\n",
              "    <tr>\n",
              "      <th>32</th>\n",
              "      <td>Alex Jones Apologizes for Promoting 'Pizzagate...</td>\n",
              "      <td>Alex Jones Apologizes for Promoting 'Pizzagate...</td>\n",
              "      <td>polit</td>\n",
              "      <td>0</td>\n",
              "      <td>poi01.blind.txt</td>\n",
              "    </tr>\n",
              "    <tr>\n",
              "      <th>33</th>\n",
              "      <td>Banks and Tech Firms Battle Over Something Aki...</td>\n",
              "      <td>Banks and Tech Firms Battle Over Something Aki...</td>\n",
              "      <td>biz</td>\n",
              "      <td>1</td>\n",
              "      <td>poi02.blind.txt</td>\n",
              "    </tr>\n",
              "    <tr>\n",
              "      <th>34</th>\n",
              "      <td>California Upholds Auto Emissions Standards</td>\n",
              "      <td>California Upholds Auto Emissions StandardsSet...</td>\n",
              "      <td>polit</td>\n",
              "      <td>0</td>\n",
              "      <td>poi03.blind.txt</td>\n",
              "    </tr>\n",
              "    <tr>\n",
              "      <th>35</th>\n",
              "      <td>Renegotiate Nafta? Mexicans Say Get On With It</td>\n",
              "      <td>Renegotiate Nafta? Mexicans Say Get On With It...</td>\n",
              "      <td>biz</td>\n",
              "      <td>1</td>\n",
              "      <td>poi04.blind.txt</td>\n",
              "    </tr>\n",
              "    <tr>\n",
              "      <th>36</th>\n",
              "      <td>Alex Jones Vindicated in \"Pizzagate\" Controversy</td>\n",
              "      <td>Alex Jones Vindicated in \"Pizzagate\" Controver...</td>\n",
              "      <td>polit</td>\n",
              "      <td>0</td>\n",
              "      <td>qwe01.blind.txt</td>\n",
              "    </tr>\n",
              "    <tr>\n",
              "      <th>37</th>\n",
              "      <td>THE BIG DATA CONSPIRACY</td>\n",
              "      <td>THE BIG DATA CONSPIRACYGovernment and Silicon ...</td>\n",
              "      <td>biz</td>\n",
              "      <td>1</td>\n",
              "      <td>qwe02.blind.txt</td>\n",
              "    </tr>\n",
              "    <tr>\n",
              "      <th>38</th>\n",
              "      <td>California Surprisingly Lenient on Auto Emissi...</td>\n",
              "      <td>California Surprisingly Lenient on Auto Emissi...</td>\n",
              "      <td>polit</td>\n",
              "      <td>0</td>\n",
              "      <td>qwe03.blind.txt</td>\n",
              "    </tr>\n",
              "    <tr>\n",
              "      <th>39</th>\n",
              "      <td>Mexicans Are Chomping at the Bit to Stop NAFTA...</td>\n",
              "      <td>Mexicans Are Chomping at the Bit to Stop NAFTA...</td>\n",
              "      <td>biz</td>\n",
              "      <td>1</td>\n",
              "      <td>qwe04.blind.txt</td>\n",
              "    </tr>\n",
              "    <tr>\n",
              "      <th>40</th>\n",
              "      <td>Trump's next legislative target:  tax reform</td>\n",
              "      <td>Trump's next legislative target:  tax reformWh...</td>\n",
              "      <td>polit</td>\n",
              "      <td>1</td>\n",
              "      <td>rty02.blind.txt</td>\n",
              "    </tr>\n",
              "    <tr>\n",
              "      <th>41</th>\n",
              "      <td>Schumer: Trump total health care buffoon</td>\n",
              "      <td>Schumer: Trump total health care buffoonSenato...</td>\n",
              "      <td>polit</td>\n",
              "      <td>1</td>\n",
              "      <td>rty03.blind.txt</td>\n",
              "    </tr>\n",
              "    <tr>\n",
              "      <th>42</th>\n",
              "      <td>Presided Trump pretends to be a worker bee</td>\n",
              "      <td>Presided Trump pretends to be a worker beePres...</td>\n",
              "      <td>polit</td>\n",
              "      <td>1</td>\n",
              "      <td>rty04.blind.txt</td>\n",
              "    </tr>\n",
              "    <tr>\n",
              "      <th>43</th>\n",
              "      <td>On 'Day Without Women,' Two Districts Cancel S...</td>\n",
              "      <td>On 'Day Without Women,' Two Districts Cancel S...</td>\n",
              "      <td>edu</td>\n",
              "      <td>0</td>\n",
              "      <td>ytr01.blind.txt</td>\n",
              "    </tr>\n",
              "    <tr>\n",
              "      <th>44</th>\n",
              "      <td>You've Been Accepted to Columbia. Oops, Our Er...</td>\n",
              "      <td>You've Been Accepted to Columbia. Oops, Our Er...</td>\n",
              "      <td>edu</td>\n",
              "      <td>0</td>\n",
              "      <td>ytr02.blind.txt</td>\n",
              "    </tr>\n",
              "    <tr>\n",
              "      <th>45</th>\n",
              "      <td>Trump's Pick for Education Could Face Unusuall...</td>\n",
              "      <td>Trump's Pick for Education Could Face Unusuall...</td>\n",
              "      <td>polit</td>\n",
              "      <td>1</td>\n",
              "      <td>ytr04.blind.txt</td>\n",
              "    </tr>\n",
              "    <tr>\n",
              "      <th>46</th>\n",
              "      <td>Will Smith reunites with Fresh Prince Pals to ...</td>\n",
              "      <td>Will Smith reunites with Fresh Prince Pals to ...</td>\n",
              "      <td>entmt</td>\n",
              "      <td>1</td>\n",
              "      <td>zxc01.blind.txt</td>\n",
              "    </tr>\n",
              "    <tr>\n",
              "      <th>47</th>\n",
              "      <td>Fat shaming kept Emma Thompson out of Los Angeles</td>\n",
              "      <td>Fat shaming kept Emma Thompson out of Los Ange...</td>\n",
              "      <td>entmt</td>\n",
              "      <td>1</td>\n",
              "      <td>zxc02.blind.txt</td>\n",
              "    </tr>\n",
              "    <tr>\n",
              "      <th>48</th>\n",
              "      <td>Brian Cox hosts scientist Postman Pat</td>\n",
              "      <td>Brian Cox hosts scientist Postman PatProfessor...</td>\n",
              "      <td>tech</td>\n",
              "      <td>1</td>\n",
              "      <td>zxc03.blind.txt</td>\n",
              "    </tr>\n",
              "  </tbody>\n",
              "</table>\n",
              "</div>"
            ],
            "text/plain": [
              "                                             Headline  ...        File Name\n",
              "0   Male teachers preparing to cover down on 'Day ...  ...  asd01.blind.txt\n",
              "1          Colombia University Busts a Steve Harvey..  ...  asd02.blind.txt\n",
              "2   Betsy DeVos's Education Hearing Brings Creatio...  ...  asd03.blind.txt\n",
              "3                          Trump's Uses His Big Brain  ...  asd04.blind.txt\n",
              "4                                                 NaN  ...  bsb01.blind.txt\n",
              "5                                                 NaN  ...  bsb02.blind.txt\n",
              "6   US President Donald Trump called Australian PM...  ...  bsb03.blind.txt\n",
              "7   An activist involved in anti-government protes...  ...  bsb04.blind.txt\n",
              "8   Signed autograph of Michael Jordan's 'Basketba...  ...  fgh01.blind.txt\n",
              "9   SEXIST RORY MCILROY CALLS VOTE FOR FEMALE MEMB...  ...  fgh02.blind.txt\n",
              "10        Bruno Fernandes de Souza Exonerated at Last  ...  fgh03.blind.txt\n",
              "11  Lawrence Okolie: Olympian suffers humiliating ...  ...  fgh04.blind.txt\n",
              "12  Will Smith reunites with Fresh Prince of Bel-A...  ...  gfd01.blind.txt\n",
              "13         Emma Thompson felt 'too fat' to live in LA  ...  gfd02.blind.txt\n",
              "14              Brian Cox plays Postman Pat scientist  ...  gfd03.blind.txt\n",
              "15  Pharrell the musical: Coming to a screen near you  ...  gfd04.blind.txt\n",
              "16  Pence: Congress wasn't ready to repeal, replac...  ...  jhg01.blind.txt\n",
              "17  Tax reform the next big ticket item on Trump's...  ...  jhg02.blind.txt\n",
              "18  Schumer: Trump showed 'basic lack of competenc...  ...  jhg03.blind.txt\n",
              "19  President Trump climbs into an 18-wheeler and ...  ...  jhg04.blind.txt\n",
              "20  New Nintendo Switch game console to launch in ...  ...  jkl01.blind.txt\n",
              "21  Smart phones and tablets banned on all U.S. fl...  ...  jkl02.blind.txt\n",
              "22  Google computers defeat shows once again nothi...  ...  jkl03.blind.txt\n",
              "23  Netflix is testing out commercials, and viewer...  ...  jkl04.blind.txt\n",
              "24  Nintendo Switch game console to launch in Marc...  ...  lkj01.blind.txt\n",
              "25  Samsung Galaxy Note 7 banned on all U.S. fligh...  ...  lkj02.blind.txt\n",
              "26  A Google computer victorious over the world's ...  ...  lkj03.blind.txt\n",
              "27  Netflix is testing a 'Skip Intro' button, and ...  ...  lkj04.blind.txt\n",
              "28  Basketball 'bible' auction sets sports memorab...  ...  mnb01.blind.txt\n",
              "29  Rory McIlroy: Muirfield women membership saga ...  ...  mnb02.blind.txt\n",
              "30        Bruno: Convicted of murdering ex-girlfriend  ...  mnb03.blind.txt\n",
              "31  Lawrence Okolie: Olympian wins in 20 seconds o...  ...  mnb04.blind.txt\n",
              "32  Alex Jones Apologizes for Promoting 'Pizzagate...  ...  poi01.blind.txt\n",
              "33  Banks and Tech Firms Battle Over Something Aki...  ...  poi02.blind.txt\n",
              "34        California Upholds Auto Emissions Standards  ...  poi03.blind.txt\n",
              "35     Renegotiate Nafta? Mexicans Say Get On With It  ...  poi04.blind.txt\n",
              "36   Alex Jones Vindicated in \"Pizzagate\" Controversy  ...  qwe01.blind.txt\n",
              "37                            THE BIG DATA CONSPIRACY  ...  qwe02.blind.txt\n",
              "38  California Surprisingly Lenient on Auto Emissi...  ...  qwe03.blind.txt\n",
              "39  Mexicans Are Chomping at the Bit to Stop NAFTA...  ...  qwe04.blind.txt\n",
              "40       Trump's next legislative target:  tax reform  ...  rty02.blind.txt\n",
              "41           Schumer: Trump total health care buffoon  ...  rty03.blind.txt\n",
              "42         Presided Trump pretends to be a worker bee  ...  rty04.blind.txt\n",
              "43  On 'Day Without Women,' Two Districts Cancel S...  ...  ytr01.blind.txt\n",
              "44  You've Been Accepted to Columbia. Oops, Our Er...  ...  ytr02.blind.txt\n",
              "45  Trump's Pick for Education Could Face Unusuall...  ...  ytr04.blind.txt\n",
              "46  Will Smith reunites with Fresh Prince Pals to ...  ...  zxc01.blind.txt\n",
              "47  Fat shaming kept Emma Thompson out of Los Angeles  ...  zxc02.blind.txt\n",
              "48              Brian Cox hosts scientist Postman Pat  ...  zxc03.blind.txt\n",
              "\n",
              "[49 rows x 5 columns]"
            ]
          },
          "metadata": {
            "tags": []
          },
          "execution_count": 126
        }
      ]
    },
    {
      "cell_type": "code",
      "metadata": {
        "id": "eqrwp7BsJNz_",
        "colab_type": "code",
        "colab": {}
      },
      "source": [
        "df_eval=df_eval.drop(columns=['Headline', 'Description'])"
      ],
      "execution_count": 0,
      "outputs": []
    },
    {
      "cell_type": "code",
      "metadata": {
        "id": "7PuRzps5JuQd",
        "colab_type": "code",
        "colab": {}
      },
      "source": [
        "df_eval=df_eval[['File Name', 'Domain', 'Fake/Legit']]"
      ],
      "execution_count": 0,
      "outputs": []
    },
    {
      "cell_type": "code",
      "metadata": {
        "id": "iic4L-MGKWBE",
        "colab_type": "code",
        "outputId": "9db30dc0-4faa-465d-df41-22dc3dd6f544",
        "colab": {
          "base_uri": "https://localhost:8080/",
          "height": 1000
        }
      },
      "source": [
        "df_eval"
      ],
      "execution_count": 0,
      "outputs": [
        {
          "output_type": "execute_result",
          "data": {
            "text/html": [
              "<div>\n",
              "<style scoped>\n",
              "    .dataframe tbody tr th:only-of-type {\n",
              "        vertical-align: middle;\n",
              "    }\n",
              "\n",
              "    .dataframe tbody tr th {\n",
              "        vertical-align: top;\n",
              "    }\n",
              "\n",
              "    .dataframe thead th {\n",
              "        text-align: right;\n",
              "    }\n",
              "</style>\n",
              "<table border=\"1\" class=\"dataframe\">\n",
              "  <thead>\n",
              "    <tr style=\"text-align: right;\">\n",
              "      <th></th>\n",
              "      <th>File Name</th>\n",
              "      <th>Domain</th>\n",
              "      <th>Fake/Legit</th>\n",
              "    </tr>\n",
              "  </thead>\n",
              "  <tbody>\n",
              "    <tr>\n",
              "      <th>0</th>\n",
              "      <td>asd01.blind.txt</td>\n",
              "      <td>edu</td>\n",
              "      <td>0</td>\n",
              "    </tr>\n",
              "    <tr>\n",
              "      <th>1</th>\n",
              "      <td>asd02.blind.txt</td>\n",
              "      <td>edu</td>\n",
              "      <td>1</td>\n",
              "    </tr>\n",
              "    <tr>\n",
              "      <th>2</th>\n",
              "      <td>asd03.blind.txt</td>\n",
              "      <td>edu</td>\n",
              "      <td>1</td>\n",
              "    </tr>\n",
              "    <tr>\n",
              "      <th>3</th>\n",
              "      <td>asd04.blind.txt</td>\n",
              "      <td>polit</td>\n",
              "      <td>1</td>\n",
              "    </tr>\n",
              "    <tr>\n",
              "      <th>4</th>\n",
              "      <td>bsb01.blind.txt</td>\n",
              "      <td>entmt</td>\n",
              "      <td>1</td>\n",
              "    </tr>\n",
              "    <tr>\n",
              "      <th>5</th>\n",
              "      <td>bsb02.blind.txt</td>\n",
              "      <td>polit</td>\n",
              "      <td>0</td>\n",
              "    </tr>\n",
              "    <tr>\n",
              "      <th>6</th>\n",
              "      <td>bsb03.blind.txt</td>\n",
              "      <td>polit</td>\n",
              "      <td>0</td>\n",
              "    </tr>\n",
              "    <tr>\n",
              "      <th>7</th>\n",
              "      <td>bsb04.blind.txt</td>\n",
              "      <td>entmt</td>\n",
              "      <td>0</td>\n",
              "    </tr>\n",
              "    <tr>\n",
              "      <th>8</th>\n",
              "      <td>fgh01.blind.txt</td>\n",
              "      <td>sports</td>\n",
              "      <td>0</td>\n",
              "    </tr>\n",
              "    <tr>\n",
              "      <th>9</th>\n",
              "      <td>fgh02.blind.txt</td>\n",
              "      <td>polit</td>\n",
              "      <td>1</td>\n",
              "    </tr>\n",
              "    <tr>\n",
              "      <th>10</th>\n",
              "      <td>fgh03.blind.txt</td>\n",
              "      <td>sports</td>\n",
              "      <td>1</td>\n",
              "    </tr>\n",
              "    <tr>\n",
              "      <th>11</th>\n",
              "      <td>fgh04.blind.txt</td>\n",
              "      <td>sports</td>\n",
              "      <td>1</td>\n",
              "    </tr>\n",
              "    <tr>\n",
              "      <th>12</th>\n",
              "      <td>gfd01.blind.txt</td>\n",
              "      <td>entmt</td>\n",
              "      <td>1</td>\n",
              "    </tr>\n",
              "    <tr>\n",
              "      <th>13</th>\n",
              "      <td>gfd02.blind.txt</td>\n",
              "      <td>entmt</td>\n",
              "      <td>0</td>\n",
              "    </tr>\n",
              "    <tr>\n",
              "      <th>14</th>\n",
              "      <td>gfd03.blind.txt</td>\n",
              "      <td>entmt</td>\n",
              "      <td>0</td>\n",
              "    </tr>\n",
              "    <tr>\n",
              "      <th>15</th>\n",
              "      <td>gfd04.blind.txt</td>\n",
              "      <td>entmt</td>\n",
              "      <td>0</td>\n",
              "    </tr>\n",
              "    <tr>\n",
              "      <th>16</th>\n",
              "      <td>jhg01.blind.txt</td>\n",
              "      <td>polit</td>\n",
              "      <td>1</td>\n",
              "    </tr>\n",
              "    <tr>\n",
              "      <th>17</th>\n",
              "      <td>jhg02.blind.txt</td>\n",
              "      <td>polit</td>\n",
              "      <td>0</td>\n",
              "    </tr>\n",
              "    <tr>\n",
              "      <th>18</th>\n",
              "      <td>jhg03.blind.txt</td>\n",
              "      <td>polit</td>\n",
              "      <td>1</td>\n",
              "    </tr>\n",
              "    <tr>\n",
              "      <th>19</th>\n",
              "      <td>jhg04.blind.txt</td>\n",
              "      <td>polit</td>\n",
              "      <td>1</td>\n",
              "    </tr>\n",
              "    <tr>\n",
              "      <th>20</th>\n",
              "      <td>jkl01.blind.txt</td>\n",
              "      <td>tech</td>\n",
              "      <td>1</td>\n",
              "    </tr>\n",
              "    <tr>\n",
              "      <th>21</th>\n",
              "      <td>jkl02.blind.txt</td>\n",
              "      <td>tech</td>\n",
              "      <td>0</td>\n",
              "    </tr>\n",
              "    <tr>\n",
              "      <th>22</th>\n",
              "      <td>jkl03.blind.txt</td>\n",
              "      <td>tech</td>\n",
              "      <td>1</td>\n",
              "    </tr>\n",
              "    <tr>\n",
              "      <th>23</th>\n",
              "      <td>jkl04.blind.txt</td>\n",
              "      <td>tech</td>\n",
              "      <td>1</td>\n",
              "    </tr>\n",
              "    <tr>\n",
              "      <th>24</th>\n",
              "      <td>lkj01.blind.txt</td>\n",
              "      <td>sports</td>\n",
              "      <td>1</td>\n",
              "    </tr>\n",
              "    <tr>\n",
              "      <th>25</th>\n",
              "      <td>lkj02.blind.txt</td>\n",
              "      <td>tech</td>\n",
              "      <td>0</td>\n",
              "    </tr>\n",
              "    <tr>\n",
              "      <th>26</th>\n",
              "      <td>lkj03.blind.txt</td>\n",
              "      <td>tech</td>\n",
              "      <td>0</td>\n",
              "    </tr>\n",
              "    <tr>\n",
              "      <th>27</th>\n",
              "      <td>lkj04.blind.txt</td>\n",
              "      <td>entmt</td>\n",
              "      <td>0</td>\n",
              "    </tr>\n",
              "    <tr>\n",
              "      <th>28</th>\n",
              "      <td>mnb01.blind.txt</td>\n",
              "      <td>sports</td>\n",
              "      <td>0</td>\n",
              "    </tr>\n",
              "    <tr>\n",
              "      <th>29</th>\n",
              "      <td>mnb02.blind.txt</td>\n",
              "      <td>edu</td>\n",
              "      <td>1</td>\n",
              "    </tr>\n",
              "    <tr>\n",
              "      <th>30</th>\n",
              "      <td>mnb03.blind.txt</td>\n",
              "      <td>sports</td>\n",
              "      <td>1</td>\n",
              "    </tr>\n",
              "    <tr>\n",
              "      <th>31</th>\n",
              "      <td>mnb04.blind.txt</td>\n",
              "      <td>sports</td>\n",
              "      <td>1</td>\n",
              "    </tr>\n",
              "    <tr>\n",
              "      <th>32</th>\n",
              "      <td>poi01.blind.txt</td>\n",
              "      <td>polit</td>\n",
              "      <td>0</td>\n",
              "    </tr>\n",
              "    <tr>\n",
              "      <th>33</th>\n",
              "      <td>poi02.blind.txt</td>\n",
              "      <td>biz</td>\n",
              "      <td>1</td>\n",
              "    </tr>\n",
              "    <tr>\n",
              "      <th>34</th>\n",
              "      <td>poi03.blind.txt</td>\n",
              "      <td>polit</td>\n",
              "      <td>0</td>\n",
              "    </tr>\n",
              "    <tr>\n",
              "      <th>35</th>\n",
              "      <td>poi04.blind.txt</td>\n",
              "      <td>biz</td>\n",
              "      <td>1</td>\n",
              "    </tr>\n",
              "    <tr>\n",
              "      <th>36</th>\n",
              "      <td>qwe01.blind.txt</td>\n",
              "      <td>polit</td>\n",
              "      <td>0</td>\n",
              "    </tr>\n",
              "    <tr>\n",
              "      <th>37</th>\n",
              "      <td>qwe02.blind.txt</td>\n",
              "      <td>biz</td>\n",
              "      <td>1</td>\n",
              "    </tr>\n",
              "    <tr>\n",
              "      <th>38</th>\n",
              "      <td>qwe03.blind.txt</td>\n",
              "      <td>polit</td>\n",
              "      <td>0</td>\n",
              "    </tr>\n",
              "    <tr>\n",
              "      <th>39</th>\n",
              "      <td>qwe04.blind.txt</td>\n",
              "      <td>biz</td>\n",
              "      <td>1</td>\n",
              "    </tr>\n",
              "    <tr>\n",
              "      <th>40</th>\n",
              "      <td>rty02.blind.txt</td>\n",
              "      <td>polit</td>\n",
              "      <td>1</td>\n",
              "    </tr>\n",
              "    <tr>\n",
              "      <th>41</th>\n",
              "      <td>rty03.blind.txt</td>\n",
              "      <td>polit</td>\n",
              "      <td>1</td>\n",
              "    </tr>\n",
              "    <tr>\n",
              "      <th>42</th>\n",
              "      <td>rty04.blind.txt</td>\n",
              "      <td>polit</td>\n",
              "      <td>1</td>\n",
              "    </tr>\n",
              "    <tr>\n",
              "      <th>43</th>\n",
              "      <td>ytr01.blind.txt</td>\n",
              "      <td>edu</td>\n",
              "      <td>0</td>\n",
              "    </tr>\n",
              "    <tr>\n",
              "      <th>44</th>\n",
              "      <td>ytr02.blind.txt</td>\n",
              "      <td>edu</td>\n",
              "      <td>0</td>\n",
              "    </tr>\n",
              "    <tr>\n",
              "      <th>45</th>\n",
              "      <td>ytr04.blind.txt</td>\n",
              "      <td>polit</td>\n",
              "      <td>1</td>\n",
              "    </tr>\n",
              "    <tr>\n",
              "      <th>46</th>\n",
              "      <td>zxc01.blind.txt</td>\n",
              "      <td>entmt</td>\n",
              "      <td>1</td>\n",
              "    </tr>\n",
              "    <tr>\n",
              "      <th>47</th>\n",
              "      <td>zxc02.blind.txt</td>\n",
              "      <td>entmt</td>\n",
              "      <td>1</td>\n",
              "    </tr>\n",
              "    <tr>\n",
              "      <th>48</th>\n",
              "      <td>zxc03.blind.txt</td>\n",
              "      <td>tech</td>\n",
              "      <td>1</td>\n",
              "    </tr>\n",
              "  </tbody>\n",
              "</table>\n",
              "</div>"
            ],
            "text/plain": [
              "          File Name  Domain  Fake/Legit\n",
              "0   asd01.blind.txt     edu           0\n",
              "1   asd02.blind.txt     edu           1\n",
              "2   asd03.blind.txt     edu           1\n",
              "3   asd04.blind.txt   polit           1\n",
              "4   bsb01.blind.txt   entmt           1\n",
              "5   bsb02.blind.txt   polit           0\n",
              "6   bsb03.blind.txt   polit           0\n",
              "7   bsb04.blind.txt   entmt           0\n",
              "8   fgh01.blind.txt  sports           0\n",
              "9   fgh02.blind.txt   polit           1\n",
              "10  fgh03.blind.txt  sports           1\n",
              "11  fgh04.blind.txt  sports           1\n",
              "12  gfd01.blind.txt   entmt           1\n",
              "13  gfd02.blind.txt   entmt           0\n",
              "14  gfd03.blind.txt   entmt           0\n",
              "15  gfd04.blind.txt   entmt           0\n",
              "16  jhg01.blind.txt   polit           1\n",
              "17  jhg02.blind.txt   polit           0\n",
              "18  jhg03.blind.txt   polit           1\n",
              "19  jhg04.blind.txt   polit           1\n",
              "20  jkl01.blind.txt    tech           1\n",
              "21  jkl02.blind.txt    tech           0\n",
              "22  jkl03.blind.txt    tech           1\n",
              "23  jkl04.blind.txt    tech           1\n",
              "24  lkj01.blind.txt  sports           1\n",
              "25  lkj02.blind.txt    tech           0\n",
              "26  lkj03.blind.txt    tech           0\n",
              "27  lkj04.blind.txt   entmt           0\n",
              "28  mnb01.blind.txt  sports           0\n",
              "29  mnb02.blind.txt     edu           1\n",
              "30  mnb03.blind.txt  sports           1\n",
              "31  mnb04.blind.txt  sports           1\n",
              "32  poi01.blind.txt   polit           0\n",
              "33  poi02.blind.txt     biz           1\n",
              "34  poi03.blind.txt   polit           0\n",
              "35  poi04.blind.txt     biz           1\n",
              "36  qwe01.blind.txt   polit           0\n",
              "37  qwe02.blind.txt     biz           1\n",
              "38  qwe03.blind.txt   polit           0\n",
              "39  qwe04.blind.txt     biz           1\n",
              "40  rty02.blind.txt   polit           1\n",
              "41  rty03.blind.txt   polit           1\n",
              "42  rty04.blind.txt   polit           1\n",
              "43  ytr01.blind.txt     edu           0\n",
              "44  ytr02.blind.txt     edu           0\n",
              "45  ytr04.blind.txt   polit           1\n",
              "46  zxc01.blind.txt   entmt           1\n",
              "47  zxc02.blind.txt   entmt           1\n",
              "48  zxc03.blind.txt    tech           1"
            ]
          },
          "metadata": {
            "tags": []
          },
          "execution_count": 131
        }
      ]
    },
    {
      "cell_type": "code",
      "metadata": {
        "id": "5BZx7VfFKaHQ",
        "colab_type": "code",
        "colab": {}
      },
      "source": [
        "df_eval.to_csv('01Binary_Task1A.csv')"
      ],
      "execution_count": 0,
      "outputs": []
    }
  ]
}